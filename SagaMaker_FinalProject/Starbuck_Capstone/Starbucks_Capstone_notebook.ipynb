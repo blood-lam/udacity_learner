{
 "cells": [
  {
   "cell_type": "markdown",
   "metadata": {},
   "source": [
    "# Starbucks Capstone Challenge\n",
    "\n",
    "### Introduction\n",
    "\n",
    "This data set contains simulated data that mimics customer behavior on the Starbucks rewards mobile app. Once every few days, Starbucks sends out an offer to users of the mobile app. An offer can be merely an advertisement for a drink or an actual offer such as a discount or BOGO (buy one get one free). Some users might not receive any offer during certain weeks. \n",
    "\n",
    "Not all users receive the same offer, and that is the challenge to solve with this data set.\n",
    "\n",
    "Your task is to combine transaction, demographic and offer data to determine which demographic groups respond best to which offer type. This data set is a simplified version of the real Starbucks app because the underlying simulator only has one product whereas Starbucks actually sells dozens of products.\n",
    "\n",
    "Every offer has a validity period before the offer expires. As an example, a BOGO offer might be valid for only 5 days. You'll see in the data set that informational offers have a validity period even though these ads are merely providing information about a product; for example, if an informational offer has 7 days of validity, you can assume the customer is feeling the influence of the offer for 7 days after receiving the advertisement.\n",
    "\n",
    "You'll be given transactional data showing user purchases made on the app including the timestamp of purchase and the amount of money spent on a purchase. This transactional data also has a record for each offer that a user receives as well as a record for when a user actually views the offer. There are also records for when a user completes an offer. \n",
    "\n",
    "Keep in mind as well that someone using the app might make a purchase through the app without having received an offer or seen an offer.\n",
    "\n",
    "### Example\n",
    "\n",
    "To give an example, a user could receive a discount offer buy 10 dollars get 2 off on Monday. The offer is valid for 10 days from receipt. If the customer accumulates at least 10 dollars in purchases during the validity period, the customer completes the offer.\n",
    "\n",
    "However, there are a few things to watch out for in this data set. Customers do not opt into the offers that they receive; in other words, a user can receive an offer, never actually view the offer, and still complete the offer. For example, a user might receive the \"buy 10 dollars get 2 dollars off offer\", but the user never opens the offer during the 10 day validity period. The customer spends 15 dollars during those ten days. There will be an offer completion record in the data set; however, the customer was not influenced by the offer because the customer never viewed the offer.\n",
    "\n",
    "### Cleaning\n",
    "\n",
    "This makes data cleaning especially important and tricky.\n",
    "\n",
    "You'll also want to take into account that some demographic groups will make purchases even if they don't receive an offer. From a business perspective, if a customer is going to make a 10 dollar purchase without an offer anyway, you wouldn't want to send a buy 10 dollars get 2 dollars off offer. You'll want to try to assess what a certain demographic group will buy when not receiving any offers.\n",
    "\n",
    "### Final Advice\n",
    "\n",
    "Because this is a capstone project, you are free to analyze the data any way you see fit. For example, you could build a machine learning model that predicts how much someone will spend based on demographics and offer type. Or you could build a model that predicts whether or not someone will respond to an offer. Or, you don't need to build a machine learning model at all. You could develop a set of heuristics that determine what offer you should send to each customer (i.e., 75 percent of women customers who were 35 years old responded to offer A vs 40 percent from the same demographic to offer B, so send offer A)."
   ]
  },
  {
   "cell_type": "markdown",
   "metadata": {},
   "source": [
    "# Data Sets\n",
    "\n",
    "The data is contained in three files:\n",
    "\n",
    "* portfolio.json - containing offer ids and meta data about each offer (duration, type, etc.)\n",
    "* profile.json - demographic data for each customer\n",
    "* transcript.json - records for transactions, offers received, offers viewed, and offers completed\n",
    "\n",
    "Here is the schema and explanation of each variable in the files:\n",
    "\n",
    "**portfolio.json**\n",
    "* id (string) - offer id\n",
    "* offer_type (string) - type of offer ie BOGO, discount, informational\n",
    "* difficulty (int) - minimum required spend to complete an offer\n",
    "* reward (int) - reward given for completing an offer\n",
    "* duration (int) - time for offer to be open, in days\n",
    "* channels (list of strings)\n",
    "\n",
    "**profile.json**\n",
    "* age (int) - age of the customer \n",
    "* became_member_on (int) - date when customer created an app account\n",
    "* gender (str) - gender of the customer (note some entries contain 'O' for other rather than M or F)\n",
    "* id (str) - customer id\n",
    "* income (float) - customer's income\n",
    "\n",
    "**transcript.json**\n",
    "* event (str) - record description (ie transaction, offer received, offer viewed, etc.)\n",
    "* person (str) - customer id\n",
    "* time (int) - time in hours since start of test. The data begins at time t=0\n",
    "* value - (dict of strings) - either an offer id or transaction amount depending on the record\n",
    "\n",
    "**Note:** If you are using the workspace, you will need to go to the terminal and run the command `conda update pandas` before reading in the files. This is because the version of pandas in the workspace cannot read in the transcript.json file correctly, but the newest version of pandas can. You can access the termnal from the orange icon in the top left of this notebook.  \n",
    "\n",
    "You can see how to access the terminal and how the install works using the two images below.  First you need to access the terminal:\n",
    "\n",
    "<img src=\"pic1.png\"/>\n",
    "\n",
    "Then you will want to run the above command:\n",
    "\n",
    "<img src=\"pic2.png\"/>\n",
    "\n",
    "Finally, when you enter back into the notebook (use the jupyter icon again), you should be able to run the below cell without any errors."
   ]
  },
  {
   "cell_type": "code",
   "execution_count": 1,
   "metadata": {},
   "outputs": [],
   "source": [
    "import pandas as pd\n",
    "import numpy as np\n",
    "import math\n",
    "import json\n",
    "import matplotlib.pyplot as plt\n",
    "import seaborn as sns\n",
    "from sklearn.model_selection import train_test_split\n",
    "from sklearn.linear_model import LogisticRegression\n",
    "from sklearn.metrics import classification_report, accuracy_score\n",
    "%matplotlib inline\n",
    "\n",
    "# read in the json files"
   ]
  },
  {
   "cell_type": "markdown",
   "metadata": {},
   "source": [
    "### Clean and encode portfolio dataset"
   ]
  },
  {
   "cell_type": "code",
   "execution_count": 2,
   "metadata": {},
   "outputs": [
    {
     "name": "stdout",
     "output_type": "stream",
     "text": [
      "portfolio.shape: (10, 6)\n",
      "portfolio.head:\n",
      "   reward                      channels  difficulty  duration     offer_type  \\\n",
      "0      10       [email, mobile, social]          10         7           bogo   \n",
      "1      10  [web, email, mobile, social]          10         5           bogo   \n",
      "2       0          [web, email, mobile]           0         4  informational   \n",
      "3       5          [web, email, mobile]           5         7           bogo   \n",
      "4       5                  [web, email]          20        10       discount   \n",
      "\n",
      "                                 id  \n",
      "0  ae264e3637204a6fb9bb56bc8210ddfd  \n",
      "1  4d5c57ea9a6940dd891ad53e9dbe8da0  \n",
      "2  3f207df678b143eea3cee63160fa8bed  \n",
      "3  9b98b8c7a33c4b65b9aebfe6a799e6d9  \n",
      "4  0b1e1539f2cc45b7b9fa7c272da2e1d7  \n"
     ]
    }
   ],
   "source": [
    "portfolio = pd.read_json('data/portfolio.json', orient='records', lines=True)\n",
    "\n",
    "print(f\"portfolio.shape: {portfolio.shape}\")\n",
    "\n",
    "print(f\"portfolio.head:\\n{portfolio.head()}\")"
   ]
  },
  {
   "cell_type": "code",
   "execution_count": 3,
   "metadata": {},
   "outputs": [
    {
     "name": "stdout",
     "output_type": "stream",
     "text": [
      "\n",
      "Data types in portfolio:\n",
      "reward         int32\n",
      "difficulty     int32\n",
      "duration       int32\n",
      "offer_type     int32\n",
      "offer_id      object\n",
      "email          int32\n",
      "mobile         int32\n",
      "social         int32\n",
      "web            int32\n",
      "dtype: object\n",
      "\n",
      "Cleaned portfolio dataset:\n",
      "   reward  difficulty  duration  offer_type                          offer_id  \\\n",
      "0      10          10         7           0  ae264e3637204a6fb9bb56bc8210ddfd   \n",
      "1      10          10         5           0  4d5c57ea9a6940dd891ad53e9dbe8da0   \n",
      "2       0           0         4           2  3f207df678b143eea3cee63160fa8bed   \n",
      "3       5           5         7           0  9b98b8c7a33c4b65b9aebfe6a799e6d9   \n",
      "4       5          20        10           1  0b1e1539f2cc45b7b9fa7c272da2e1d7   \n",
      "\n",
      "   email  mobile  social  web  \n",
      "0      1       1       1    0  \n",
      "1      1       1       1    1  \n",
      "2      1       1       0    1  \n",
      "3      1       1       0    1  \n",
      "4      1       0       0    1  \n",
      "Shape of cleaned portfolio: (10, 9)\n"
     ]
    }
   ],
   "source": [
    "# Drop rows with any missing values\n",
    "portfolio = portfolio.dropna()\n",
    "\n",
    "# Reset the index after dropping rows\n",
    "portfolio = portfolio.reset_index(drop=True)\n",
    "\n",
    "# Rename 'id' column to 'offer_id' for clarity\n",
    "portfolio = portfolio.rename(columns={'id': 'offer_id'})\n",
    "\n",
    "# Ensure 'offer_id' is of type string\n",
    "portfolio['offer_id'] = portfolio['offer_id'].astype(str)\n",
    "\n",
    "# One-hot encode the 'channels' column\n",
    "channels_dummies = portfolio['channels'].apply(lambda x: pd.Series(1, index=x)).fillna(0).astype('int32')\n",
    "portfolio = pd.concat([portfolio.drop('channels', axis=1), channels_dummies], axis=1)\n",
    "\n",
    "# Convert 'offer_type' to numerical values using label encoding\n",
    "offer_type_mapping = {'bogo': 0, 'discount': 1, 'informational': 2}\n",
    "portfolio['offer_type'] = portfolio['offer_type'].map(offer_type_mapping).astype('int32')\n",
    "\n",
    "# Ensure numerical columns are of the correct type\n",
    "numerical_columns = ['difficulty', 'duration', 'reward']\n",
    "for col in numerical_columns:\n",
    "    portfolio[col] = pd.to_numeric(portfolio[col], errors='coerce').astype('int32')\n",
    "\n",
    "# Check for any inconsistent data types\n",
    "print(\"\\nData types in portfolio:\")\n",
    "print(portfolio.dtypes)\n",
    "\n",
    "print(\"\\nCleaned portfolio dataset:\")\n",
    "print(portfolio.head())\n",
    "print(f\"Shape of cleaned portfolio: {portfolio.shape}\")\n"
   ]
  },
  {
   "cell_type": "markdown",
   "metadata": {},
   "source": [
    "\n",
    "### Clean and encode profile dataset\n"
   ]
  },
  {
   "cell_type": "code",
   "execution_count": 4,
   "metadata": {},
   "outputs": [
    {
     "name": "stdout",
     "output_type": "stream",
     "text": [
      "profile.shape: (17000, 5)\n",
      "profile.head:\n",
      "  gender  age                                id  became_member_on    income\n",
      "0   None  118  68be06ca386d4c31939f3a4f0e3dd783          20170212       NaN\n",
      "1      F   55  0610b486422d4921ae7d2bf64640c50b          20170715  112000.0\n",
      "2   None  118  38fe809add3b4fcf9315a9694bb96ff5          20180712       NaN\n",
      "3      F   75  78afa995795e4d85b5d9ceeca43f5fef          20170509  100000.0\n",
      "4   None  118  a03223e636434f42ac4c3df47e8bac43          20170804       NaN\n"
     ]
    }
   ],
   "source": [
    "profile = pd.read_json('data/profile.json', orient='records', lines=True)\n",
    "\n",
    "print(f\"profile.shape: {profile.shape}\")\n",
    "\n",
    "print(f\"profile.head:\\n{profile.head()}\")"
   ]
  },
  {
   "cell_type": "code",
   "execution_count": 5,
   "metadata": {},
   "outputs": [
    {
     "name": "stdout",
     "output_type": "stream",
     "text": [
      "\n",
      "Cleaned and encoded profile dataset:\n",
      "   age                       customer_id    income  gender_F  gender_M  \\\n",
      "0   55  0610b486422d4921ae7d2bf64640c50b  112000.0         1         0   \n",
      "1   75  78afa995795e4d85b5d9ceeca43f5fef  100000.0         1         0   \n",
      "2   68  e2127556f4f64592b11af22de27a7932   70000.0         0         1   \n",
      "3   65  389bc3fa690240e798340f5a15918d5c   53000.0         0         1   \n",
      "4   58  2eeac8d8feae4a8cad5a6af0499a211d   51000.0         0         1   \n",
      "\n",
      "   gender_O  membership_days  \n",
      "0         0             2607  \n",
      "1         0             2674  \n",
      "2         0             2322  \n",
      "3         0             2398  \n",
      "4         0             2488  \n",
      "Shape of cleaned profile: (14825, 7)\n",
      "\n",
      "Summary statistics for profile:\n",
      "                age         income      gender_F      gender_M      gender_O  \\\n",
      "count  14825.000000   14825.000000  14825.000000  14825.000000  14825.000000   \n",
      "mean      54.393524   65404.992188      0.413423      0.572277      0.014300   \n",
      "std       17.383705   21598.373047      0.492464      0.494765      0.118729   \n",
      "min       18.000000   30000.000000      0.000000      0.000000      0.000000   \n",
      "25%       42.000000   49000.000000      0.000000      0.000000      0.000000   \n",
      "50%       55.000000   64000.000000      0.000000      1.000000      0.000000   \n",
      "75%       66.000000   80000.000000      1.000000      1.000000      0.000000   \n",
      "max      101.000000  120000.000000      1.000000      1.000000      1.000000   \n",
      "\n",
      "       membership_days  \n",
      "count     14825.000000  \n",
      "mean       2753.478988  \n",
      "std         419.205158  \n",
      "min        2231.000000  \n",
      "25%        2439.000000  \n",
      "50%        2589.000000  \n",
      "75%        3028.000000  \n",
      "max        4054.000000  \n",
      "\n",
      "Data types in profile:\n",
      "age                  int32\n",
      "customer_id         object\n",
      "income             float32\n",
      "gender_F             int32\n",
      "gender_M             int32\n",
      "gender_O             int32\n",
      "membership_days      int32\n",
      "dtype: object\n"
     ]
    }
   ],
   "source": [
    "# Clean profile dataset\n",
    "\n",
    "# Remove any duplicate rows\n",
    "profile = profile.drop_duplicates()\n",
    "\n",
    "# Drop rows with null values\n",
    "profile = profile.dropna()\n",
    "\n",
    "# Reset index after dropping rows\n",
    "profile = profile.reset_index(drop=True)\n",
    "\n",
    "# Convert 'became_member_on' to datetime\n",
    "profile['became_member_on'] = pd.to_datetime(profile['became_member_on'], format='%Y%m%d')\n",
    "\n",
    "# Rename 'id' to 'customer_id' and ensure it's of type string\n",
    "profile = profile.rename(columns={'id': 'customer_id'})\n",
    "profile['customer_id'] = profile['customer_id'].astype(str)\n",
    "\n",
    "# Ensure correct types for other columns\n",
    "profile['age'] = profile['age'].astype('int32')\n",
    "profile['income'] = profile['income'].astype('float32')\n",
    "\n",
    "# Convert gender to number\n",
    "# profile['gender'] = profile['gender'].map({'M': 0, 'F': 1, 'O': 2})\n",
    "# One hot encode gender and remove the first category to avoid multicollinearity\n",
    "gender_dummies = pd.get_dummies(profile['gender'], prefix='gender', dtype='int32')\n",
    "profile = pd.concat([profile, gender_dummies], axis=1)\n",
    "profile = profile.drop(columns=['gender'])\n",
    "\n",
    "\n",
    "# Calculate membership duration\n",
    "profile['membership_days'] = (pd.Timestamp.now() - profile['became_member_on']).dt.days.astype('int32') # type: ignore\n",
    "\n",
    "# Drop the 'became_member_on' column as it's no longer needed\n",
    "profile = profile.drop(columns=['became_member_on'])\n",
    "\n",
    "print(\"\\nCleaned and encoded profile dataset:\")\n",
    "print(profile.head())\n",
    "print(f\"Shape of cleaned profile: {profile.shape}\")\n",
    "\n",
    "# Display summary statistics\n",
    "print(\"\\nSummary statistics for profile:\")\n",
    "print(profile.describe())\n",
    "\n",
    "# Display data types\n",
    "print(\"\\nData types in profile:\")\n",
    "print(profile.dtypes)\n"
   ]
  },
  {
   "cell_type": "markdown",
   "metadata": {},
   "source": [
    "### Clean and encode transcript dataset\n"
   ]
  },
  {
   "cell_type": "code",
   "execution_count": 6,
   "metadata": {},
   "outputs": [
    {
     "name": "stdout",
     "output_type": "stream",
     "text": [
      "transcript.shape: (306534, 4)\n",
      "transcript.head:\n",
      "                             person           event  \\\n",
      "0  78afa995795e4d85b5d9ceeca43f5fef  offer received   \n",
      "1  a03223e636434f42ac4c3df47e8bac43  offer received   \n",
      "2  e2127556f4f64592b11af22de27a7932  offer received   \n",
      "3  8ec6ce2a7e7949b1bf142def7d0e0586  offer received   \n",
      "4  68617ca6246f4fbc85e91a2a49552598  offer received   \n",
      "\n",
      "                                              value  time  \n",
      "0  {'offer id': '9b98b8c7a33c4b65b9aebfe6a799e6d9'}     0  \n",
      "1  {'offer id': '0b1e1539f2cc45b7b9fa7c272da2e1d7'}     0  \n",
      "2  {'offer id': '2906b810c7d4411798c6938adc9daaa5'}     0  \n",
      "3  {'offer id': 'fafdcd668e3743c1bb461111dcafc2a4'}     0  \n",
      "4  {'offer id': '4d5c57ea9a6940dd891ad53e9dbe8da0'}     0  \n"
     ]
    }
   ],
   "source": [
    "transcript = pd.read_json('data/transcript.json', orient='records', lines=True)\n",
    "\n",
    "print(f\"transcript.shape: {transcript.shape}\")\n",
    "\n",
    "print(f\"transcript.head:\\n{transcript.head()}\")\n"
   ]
  },
  {
   "cell_type": "code",
   "execution_count": 7,
   "metadata": {},
   "outputs": [
    {
     "name": "stdout",
     "output_type": "stream",
     "text": [
      "                        customer_id           event  \\\n",
      "0  78afa995795e4d85b5d9ceeca43f5fef  offer received   \n",
      "1  a03223e636434f42ac4c3df47e8bac43  offer received   \n",
      "2  e2127556f4f64592b11af22de27a7932  offer received   \n",
      "3  8ec6ce2a7e7949b1bf142def7d0e0586  offer received   \n",
      "4  68617ca6246f4fbc85e91a2a49552598  offer received   \n",
      "\n",
      "                                              value  time  \\\n",
      "0  {'offer id': '9b98b8c7a33c4b65b9aebfe6a799e6d9'}     0   \n",
      "1  {'offer id': '0b1e1539f2cc45b7b9fa7c272da2e1d7'}     0   \n",
      "2  {'offer id': '2906b810c7d4411798c6938adc9daaa5'}     0   \n",
      "3  {'offer id': 'fafdcd668e3743c1bb461111dcafc2a4'}     0   \n",
      "4  {'offer id': '4d5c57ea9a6940dd891ad53e9dbe8da0'}     0   \n",
      "\n",
      "                           offer_id  \n",
      "0  9b98b8c7a33c4b65b9aebfe6a799e6d9  \n",
      "1  0b1e1539f2cc45b7b9fa7c272da2e1d7  \n",
      "2  2906b810c7d4411798c6938adc9daaa5  \n",
      "3  fafdcd668e3743c1bb461111dcafc2a4  \n",
      "4  4d5c57ea9a6940dd891ad53e9dbe8da0  \n"
     ]
    }
   ],
   "source": [
    "# Extract data from 'value' column\n",
    "# For offer_id, check both 'offer id' and 'offer_id' keys\n",
    "transcript['offer_id'] = transcript.apply(lambda row: row['value'].get('offer id', '') or row['value'].get('offer_id', '') if row['event'] != 'transaction' else '', axis=1)\n",
    "\n",
    "# Rename 'person' column to 'customer_id'\n",
    "transcript.rename(columns={'person': 'customer_id'}, inplace=True)\n",
    "\n",
    "# Display the first few rows of the updated dataframe\n",
    "print(transcript.head())"
   ]
  },
  {
   "cell_type": "code",
   "execution_count": 8,
   "metadata": {},
   "outputs": [
    {
     "name": "stdout",
     "output_type": "stream",
     "text": [
      "                        customer_id  time                          offer_id\n",
      "0  78afa995795e4d85b5d9ceeca43f5fef     0  9b98b8c7a33c4b65b9aebfe6a799e6d9\n",
      "1  a03223e636434f42ac4c3df47e8bac43     0  0b1e1539f2cc45b7b9fa7c272da2e1d7\n",
      "2  e2127556f4f64592b11af22de27a7932     0  2906b810c7d4411798c6938adc9daaa5\n",
      "3  8ec6ce2a7e7949b1bf142def7d0e0586     0  fafdcd668e3743c1bb461111dcafc2a4\n",
      "4  68617ca6246f4fbc85e91a2a49552598     0  4d5c57ea9a6940dd891ad53e9dbe8da0\n"
     ]
    }
   ],
   "source": [
    "# 'offer received', 'offer viewed', 'offer completed', 'transaction'\n",
    "received_offer = transcript[transcript['event'] == 'offer received'].copy()\n",
    "\n",
    "received_offer.drop(columns=['event', 'value'], inplace=True)\n",
    "\n",
    "print(received_offer.head())"
   ]
  },
  {
   "cell_type": "code",
   "execution_count": 9,
   "metadata": {},
   "outputs": [
    {
     "name": "stdout",
     "output_type": "stream",
     "text": [
      "                            customer_id  time  \\\n",
      "12650  389bc3fa690240e798340f5a15918d5c     0   \n",
      "12651  d1ede868e29245ea91818a903fec04c6     0   \n",
      "12652  102e9454054946fda62242d2e176fdce     0   \n",
      "12653  02c083884c7d45b39cc68e1314fec56c     0   \n",
      "12655  be8a5d1981a2458d90b255ddc7e0d174     0   \n",
      "\n",
      "                               offer_id  \n",
      "12650  f19421c1d4aa40978ebb69ca19b0e20d  \n",
      "12651  5a8bc65990b245e5a138643cd4eb9837  \n",
      "12652  4d5c57ea9a6940dd891ad53e9dbe8da0  \n",
      "12653  ae264e3637204a6fb9bb56bc8210ddfd  \n",
      "12655  5a8bc65990b245e5a138643cd4eb9837  \n"
     ]
    }
   ],
   "source": [
    "viewed_offer = transcript[transcript['event'] == 'offer viewed'].copy()\n",
    "viewed_offer.drop(columns=['event', 'value'], inplace=True)\n",
    "\n",
    "print(viewed_offer.head())\n"
   ]
  },
  {
   "cell_type": "code",
   "execution_count": 10,
   "metadata": {},
   "outputs": [
    {
     "name": "stdout",
     "output_type": "stream",
     "text": [
      "                            customer_id  time  \\\n",
      "12658  9fa9ae8f57894cc9a3b8a9bbe0fc1b2f     0   \n",
      "12672  fe97aa22dd3e48c8b143116a8403dd52     0   \n",
      "12679  629fc02d56414d91bca360decdfa9288     0   \n",
      "12692  676506bad68e4161b9bbaffeb039626b     0   \n",
      "12697  8f7dd3b2afe14c078eb4f6e6fe4ba97d     0   \n",
      "\n",
      "                               offer_id  given_reward  \n",
      "12658  2906b810c7d4411798c6938adc9daaa5           2.0  \n",
      "12672  fafdcd668e3743c1bb461111dcafc2a4           2.0  \n",
      "12679  9b98b8c7a33c4b65b9aebfe6a799e6d9           5.0  \n",
      "12692  ae264e3637204a6fb9bb56bc8210ddfd          10.0  \n",
      "12697  4d5c57ea9a6940dd891ad53e9dbe8da0          10.0  \n"
     ]
    }
   ],
   "source": [
    "completed_offer = transcript[transcript['event'] == 'offer completed'].copy()\n",
    "\n",
    "# Extract reward from 'value' column, default to 0.0 if not present or if 'value' is not a dict\n",
    "completed_offer['given_reward'] = completed_offer['value'].apply(lambda x: x.get('reward', 0.0) if isinstance(x, dict) else 0.0).astype('float32')\n",
    "\n",
    "completed_offer.drop(columns=['event', 'value'], inplace=True)\n",
    "\n",
    "print(completed_offer.head())\n"
   ]
  },
  {
   "cell_type": "code",
   "execution_count": 11,
   "metadata": {},
   "outputs": [
    {
     "name": "stdout",
     "output_type": "stream",
     "text": [
      "                            customer_id  time     amount\n",
      "12654  02c083884c7d45b39cc68e1314fec56c     0   0.830000\n",
      "12657  9fa9ae8f57894cc9a3b8a9bbe0fc1b2f     0  34.560001\n",
      "12659  54890f68699049c2a04d415abc25e717     0  13.230000\n",
      "12670  b2f1cd155b864803ad8334cdf13c4bd2     0  19.510000\n",
      "12671  fe97aa22dd3e48c8b143116a8403dd52     0  18.969999\n"
     ]
    }
   ],
   "source": [
    "transaction = transcript[transcript['event'] == 'transaction'].copy()\n",
    "\n",
    "# Extract amount from 'value' column, default to 0.0 if not present\n",
    "transaction['amount'] = transaction['value'].apply(lambda x: x.get('amount', 0.0) if isinstance(x, dict) else 0.0).astype('float32')\n",
    "\n",
    "transaction.drop(columns=['event', 'value', 'offer_id'], inplace=True)\n",
    "\n",
    "print(transaction.head())\n"
   ]
  },
  {
   "cell_type": "code",
   "execution_count": 12,
   "metadata": {},
   "outputs": [
    {
     "name": "stdout",
     "output_type": "stream",
     "text": [
      "<class 'pandas.core.frame.DataFrame'>\n",
      "RangeIndex: 306534 entries, 0 to 306533\n",
      "Data columns (total 5 columns):\n",
      " #   Column       Non-Null Count   Dtype \n",
      "---  ------       --------------   ----- \n",
      " 0   customer_id  306534 non-null  object\n",
      " 1   event        306534 non-null  object\n",
      " 2   value        306534 non-null  object\n",
      " 3   time         306534 non-null  int64 \n",
      " 4   offer_id     306534 non-null  object\n",
      "dtypes: int64(1), object(4)\n",
      "memory usage: 11.7+ MB\n"
     ]
    }
   ],
   "source": [
    "transcript.info()"
   ]
  },
  {
   "cell_type": "code",
   "execution_count": 13,
   "metadata": {},
   "outputs": [
    {
     "name": "stdout",
     "output_type": "stream",
     "text": [
      "(79866, 4)\n"
     ]
    }
   ],
   "source": [
    "# Remove duplicates based on 'offer_id' and 'customer_id'\n",
    "final_transcript = transcript.drop_duplicates(subset=['offer_id', 'customer_id']).copy()\n",
    "\n",
    "# Drop the 'amount' column from clean_transcript\n",
    "final_transcript.drop(columns=['value'], inplace=True)\n",
    "\n",
    "print(final_transcript.shape)\n",
    "\n"
   ]
  },
  {
   "cell_type": "code",
   "execution_count": 14,
   "metadata": {},
   "outputs": [
    {
     "name": "stdout",
     "output_type": "stream",
     "text": [
      "                        customer_id           event  time  \\\n",
      "0  78afa995795e4d85b5d9ceeca43f5fef  offer received     0   \n",
      "1  a03223e636434f42ac4c3df47e8bac43  offer received     0   \n",
      "2  e2127556f4f64592b11af22de27a7932  offer received     0   \n",
      "3  8ec6ce2a7e7949b1bf142def7d0e0586  offer received     0   \n",
      "4  68617ca6246f4fbc85e91a2a49552598  offer received     0   \n",
      "\n",
      "                           offer_id  received_offer  viewed_offer  \\\n",
      "0  9b98b8c7a33c4b65b9aebfe6a799e6d9               1             1   \n",
      "1  0b1e1539f2cc45b7b9fa7c272da2e1d7               1             1   \n",
      "2  2906b810c7d4411798c6938adc9daaa5               1             1   \n",
      "3  fafdcd668e3743c1bb461111dcafc2a4               1             1   \n",
      "4  4d5c57ea9a6940dd891ad53e9dbe8da0               1             1   \n",
      "\n",
      "   completed_offer  \n",
      "0                1  \n",
      "1                0  \n",
      "2                0  \n",
      "3                0  \n",
      "4                0  \n"
     ]
    }
   ],
   "source": [
    "final_transcript['received_offer'] = final_transcript.set_index(['offer_id', 'customer_id']).index.isin(received_offer.set_index(['offer_id', 'customer_id']).index).astype('int32')\n",
    "final_transcript['viewed_offer'] = final_transcript.set_index(['offer_id', 'customer_id']).index.isin(viewed_offer.set_index(['offer_id', 'customer_id']).index).astype('int32')\n",
    "final_transcript['completed_offer'] = final_transcript.set_index(['offer_id', 'customer_id']).index.isin(completed_offer.set_index(['offer_id', 'customer_id']).index).astype('int32')\n",
    "\n",
    "print(final_transcript.head())\n"
   ]
  },
  {
   "cell_type": "code",
   "execution_count": 15,
   "metadata": {},
   "outputs": [],
   "source": [
    "def calculate_delayed_time(final_transcript, event_type, reference_event='offer received'):\n",
    "    if event_type not in ['view', 'complete']:\n",
    "        raise ValueError(\"event_type must be either 'view' or 'complete'\")\n",
    "    \n",
    "    event_df = viewed_offer if event_type == 'view' else completed_offer\n",
    "    event_time = event_df.set_index(['offer_id', 'customer_id'])['time'].astype('int32')\n",
    "    reference_time = final_transcript[final_transcript['event'] == reference_event].set_index(['offer_id', 'customer_id'])['time'].astype('int32')\n",
    "\n",
    "    # Ensure both Series have unique indices\n",
    "    event_time = event_time.reset_index()\n",
    "    reference_time = reference_time.reset_index()\n",
    "\n",
    "    # Perform the subtraction\n",
    "    delayed_time = event_time.set_index(['offer_id', 'customer_id'])['time'].subtract(\n",
    "        reference_time.set_index(['offer_id', 'customer_id'])['time'].astype('int32'), \n",
    "        fill_value=None\n",
    "    )\n",
    "\n",
    "    # Create a mapping of (offer_id, customer_id) to delayed_time\n",
    "    delayed_time_map = delayed_time.to_dict()\n",
    "\n",
    "    # Apply the mapping to clean_transcript\n",
    "    column_name = f'delayed_{event_type}_time'\n",
    "    final_transcript[column_name] = final_transcript.set_index(['offer_id', 'customer_id']).index.map(delayed_time_map)\n",
    "\n",
    "# Calculate delayed view time\n",
    "calculate_delayed_time(final_transcript,'view')\n",
    "\n",
    "# Calculate delayed complete time\n",
    "calculate_delayed_time(final_transcript, 'complete')\n",
    "\n",
    "# Example of using a different reference event (if needed)\n",
    "# calculate_delayed_time(final_transcript, 'view', 'some_other_event')\n",
    "\n",
    "# Reset index of clean_transcript\n",
    "final_transcript = final_transcript.reset_index(drop=True)\n",
    "\n",
    "# Drop rows where event type is 'transaction'\n",
    "final_transcript = final_transcript[final_transcript['event'] != 'transaction']\n",
    "\n",
    "# Reset the index after dropping rows\n",
    "final_transcript.reset_index(drop=True, inplace=True)\n",
    "\n",
    "\n",
    "final_transcript.drop(columns=['event'], inplace=True)"
   ]
  },
  {
   "cell_type": "code",
   "execution_count": 16,
   "metadata": {},
   "outputs": [
    {
     "name": "stdout",
     "output_type": "stream",
     "text": [
      "                        customer_id  time                          offer_id  \\\n",
      "0  78afa995795e4d85b5d9ceeca43f5fef     0  9b98b8c7a33c4b65b9aebfe6a799e6d9   \n",
      "1  a03223e636434f42ac4c3df47e8bac43     0  0b1e1539f2cc45b7b9fa7c272da2e1d7   \n",
      "2  e2127556f4f64592b11af22de27a7932     0  2906b810c7d4411798c6938adc9daaa5   \n",
      "3  8ec6ce2a7e7949b1bf142def7d0e0586     0  fafdcd668e3743c1bb461111dcafc2a4   \n",
      "4  68617ca6246f4fbc85e91a2a49552598     0  4d5c57ea9a6940dd891ad53e9dbe8da0   \n",
      "\n",
      "   received_offer  viewed_offer  completed_offer  delayed_view_time  \\\n",
      "0               1             1                1                6.0   \n",
      "1               1             1                0              624.0   \n",
      "2               1             1                0               18.0   \n",
      "3               1             1                0              522.0   \n",
      "4               1             1                0               84.0   \n",
      "\n",
      "   delayed_complete_time  amount  given_reward  \n",
      "0                  132.0     0.0           5.0  \n",
      "1                    NaN     0.0           0.0  \n",
      "2                    NaN     0.0           0.0  \n",
      "3                    NaN     0.0           0.0  \n",
      "4                    NaN     0.0           0.0  \n",
      "Shape of clean_transcript after adding amount: (67871, 10)\n"
     ]
    }
   ],
   "source": [
    "def merge_transaction_and_reward_data(final_transcript, transaction, completed_offer):\n",
    "    # Merge clean_transcript with transaction data to add the 'amount' column\n",
    "    final_transcript = final_transcript.merge(\n",
    "        transaction[['customer_id', 'time', 'amount']],\n",
    "        on=['customer_id', 'time'],\n",
    "        how='left'\n",
    "    )\n",
    "\n",
    "    # Fill NaN values in the 'amount' column with 0\n",
    "    final_transcript['amount'] = final_transcript['amount'].fillna(0)\n",
    "\n",
    "    # Merge clean_transcript with completed_offer data to add the 'given_reward' column\n",
    "    final_transcript = final_transcript.merge(\n",
    "        completed_offer[['customer_id', 'offer_id', 'given_reward']],\n",
    "        on=['customer_id', 'offer_id'],\n",
    "        how='left'\n",
    "    )\n",
    "\n",
    "    # Fill NaN values in the 'given_reward' column with 0\n",
    "    final_transcript['given_reward'] = final_transcript['given_reward'].fillna(0)\n",
    "\n",
    "    return final_transcript\n",
    "\n",
    "# Use the function to update clean_transcript\n",
    "final_transcript = merge_transaction_and_reward_data(final_transcript, transaction, completed_offer)\n",
    "\n",
    "print(final_transcript.head())\n",
    "print(f\"Shape of clean_transcript after adding amount: {final_transcript.shape}\")\n",
    "final_transcript.drop(columns=['time'], inplace=True)\n",
    "\n"
   ]
  },
  {
   "cell_type": "code",
   "execution_count": 17,
   "metadata": {},
   "outputs": [
    {
     "name": "stdout",
     "output_type": "stream",
     "text": [
      "                            customer_id                          offer_id  \\\n",
      "39     676506bad68e4161b9bbaffeb039626b  ae264e3637204a6fb9bb56bc8210ddfd   \n",
      "40     9fa9ae8f57894cc9a3b8a9bbe0fc1b2f  2906b810c7d4411798c6938adc9daaa5   \n",
      "127    fe97aa22dd3e48c8b143116a8403dd52  fafdcd668e3743c1bb461111dcafc2a4   \n",
      "147    629fc02d56414d91bca360decdfa9288  9b98b8c7a33c4b65b9aebfe6a799e6d9   \n",
      "148    2481f1fcfbcb4b288e5a03af02d95373  2906b810c7d4411798c6938adc9daaa5   \n",
      "...                                 ...                               ...   \n",
      "67787  569bd9890e74463f84e96f4b4951f45a  fafdcd668e3743c1bb461111dcafc2a4   \n",
      "67790  b7ff2824d6b14653900c9c55b3df78d3  2906b810c7d4411798c6938adc9daaa5   \n",
      "67799  3408fd05c781401f8442fb6dbaaea9c7  0b1e1539f2cc45b7b9fa7c272da2e1d7   \n",
      "67813  8a776d222f174aa089866b2725721eec  2298d6c36e964ae4a3e7e9706d1fb8c2   \n",
      "67853  0b250fe9fab14dac96ba542a572da081  2298d6c36e964ae4a3e7e9706d1fb8c2   \n",
      "\n",
      "       received_offer  viewed_offer  completed_offer  delayed_view_time  \\\n",
      "39                  1             1                1                0.0   \n",
      "40                  1             1                1                0.0   \n",
      "127                 1             1                1                6.0   \n",
      "147                 1             1                1                0.0   \n",
      "148                 1             0                1                NaN   \n",
      "...               ...           ...              ...                ...   \n",
      "67787               1             1                1               18.0   \n",
      "67790               1             0                1                NaN   \n",
      "67799               1             0                1                NaN   \n",
      "67813               1             1                1               96.0   \n",
      "67853               1             1                1               72.0   \n",
      "\n",
      "       delayed_complete_time     amount  given_reward  \n",
      "39                       0.0  18.010000          10.0  \n",
      "40                       0.0  34.560001           2.0  \n",
      "127                      0.0  18.969999           2.0  \n",
      "147                      0.0  33.900002           5.0  \n",
      "148                    462.0  30.030001           2.0  \n",
      "...                      ...        ...           ...  \n",
      "67787                    0.0  38.400002           2.0  \n",
      "67790                   78.0   1.800000           2.0  \n",
      "67799                   30.0  14.800000           5.0  \n",
      "67813                    0.0  11.860000           3.0  \n",
      "67853                    0.0  24.070000           3.0  \n",
      "\n",
      "[2891 rows x 9 columns]\n"
     ]
    }
   ],
   "source": [
    "\n",
    "print(final_transcript[(final_transcript['completed_offer'] == 1) & (final_transcript['amount'] > 0.0)])\n"
   ]
  },
  {
   "cell_type": "code",
   "execution_count": 18,
   "metadata": {},
   "outputs": [
    {
     "data": {
      "text/html": [
       "<div>\n",
       "<style scoped>\n",
       "    .dataframe tbody tr th:only-of-type {\n",
       "        vertical-align: middle;\n",
       "    }\n",
       "\n",
       "    .dataframe tbody tr th {\n",
       "        vertical-align: top;\n",
       "    }\n",
       "\n",
       "    .dataframe thead th {\n",
       "        text-align: right;\n",
       "    }\n",
       "</style>\n",
       "<table border=\"1\" class=\"dataframe\">\n",
       "  <thead>\n",
       "    <tr style=\"text-align: right;\">\n",
       "      <th></th>\n",
       "      <th>customer_id</th>\n",
       "      <th>offer_id</th>\n",
       "      <th>received_offer</th>\n",
       "      <th>viewed_offer</th>\n",
       "      <th>completed_offer</th>\n",
       "      <th>delayed_view_time</th>\n",
       "      <th>delayed_complete_time</th>\n",
       "      <th>amount</th>\n",
       "      <th>given_reward</th>\n",
       "    </tr>\n",
       "  </thead>\n",
       "  <tbody>\n",
       "    <tr>\n",
       "      <th>8</th>\n",
       "      <td>2eeac8d8feae4a8cad5a6af0499a211d</td>\n",
       "      <td>3f207df678b143eea3cee63160fa8bed</td>\n",
       "      <td>1</td>\n",
       "      <td>0</td>\n",
       "      <td>0</td>\n",
       "      <td>NaN</td>\n",
       "      <td>NaN</td>\n",
       "      <td>0.00</td>\n",
       "      <td>0.0</td>\n",
       "    </tr>\n",
       "    <tr>\n",
       "      <th>21</th>\n",
       "      <td>65aba5c617294649aeb624da249e1ee5</td>\n",
       "      <td>2906b810c7d4411798c6938adc9daaa5</td>\n",
       "      <td>1</td>\n",
       "      <td>0</td>\n",
       "      <td>0</td>\n",
       "      <td>NaN</td>\n",
       "      <td>NaN</td>\n",
       "      <td>0.00</td>\n",
       "      <td>0.0</td>\n",
       "    </tr>\n",
       "    <tr>\n",
       "      <th>24</th>\n",
       "      <td>868317b9be554cb18e50bc68484749a2</td>\n",
       "      <td>2906b810c7d4411798c6938adc9daaa5</td>\n",
       "      <td>1</td>\n",
       "      <td>0</td>\n",
       "      <td>1</td>\n",
       "      <td>NaN</td>\n",
       "      <td>132.0</td>\n",
       "      <td>0.00</td>\n",
       "      <td>2.0</td>\n",
       "    </tr>\n",
       "    <tr>\n",
       "      <th>27</th>\n",
       "      <td>4beeb3ed64dd4898b0edf2f6b67426d3</td>\n",
       "      <td>2906b810c7d4411798c6938adc9daaa5</td>\n",
       "      <td>1</td>\n",
       "      <td>0</td>\n",
       "      <td>1</td>\n",
       "      <td>NaN</td>\n",
       "      <td>120.0</td>\n",
       "      <td>0.00</td>\n",
       "      <td>2.0</td>\n",
       "    </tr>\n",
       "    <tr>\n",
       "      <th>29</th>\n",
       "      <td>25c906289d154b66bf579693f89481c9</td>\n",
       "      <td>2906b810c7d4411798c6938adc9daaa5</td>\n",
       "      <td>1</td>\n",
       "      <td>0</td>\n",
       "      <td>0</td>\n",
       "      <td>NaN</td>\n",
       "      <td>NaN</td>\n",
       "      <td>0.00</td>\n",
       "      <td>0.0</td>\n",
       "    </tr>\n",
       "    <tr>\n",
       "      <th>...</th>\n",
       "      <td>...</td>\n",
       "      <td>...</td>\n",
       "      <td>...</td>\n",
       "      <td>...</td>\n",
       "      <td>...</td>\n",
       "      <td>...</td>\n",
       "      <td>...</td>\n",
       "      <td>...</td>\n",
       "      <td>...</td>\n",
       "    </tr>\n",
       "    <tr>\n",
       "      <th>67856</th>\n",
       "      <td>10316535e185400fb093c371d62254e3</td>\n",
       "      <td>3f207df678b143eea3cee63160fa8bed</td>\n",
       "      <td>1</td>\n",
       "      <td>0</td>\n",
       "      <td>0</td>\n",
       "      <td>NaN</td>\n",
       "      <td>NaN</td>\n",
       "      <td>0.00</td>\n",
       "      <td>0.0</td>\n",
       "    </tr>\n",
       "    <tr>\n",
       "      <th>67861</th>\n",
       "      <td>ff737c250d2343729ade04c4f6eb1001</td>\n",
       "      <td>0b1e1539f2cc45b7b9fa7c272da2e1d7</td>\n",
       "      <td>1</td>\n",
       "      <td>0</td>\n",
       "      <td>0</td>\n",
       "      <td>NaN</td>\n",
       "      <td>NaN</td>\n",
       "      <td>4.78</td>\n",
       "      <td>0.0</td>\n",
       "    </tr>\n",
       "    <tr>\n",
       "      <th>67862</th>\n",
       "      <td>97ee6e7a12fe4064b260fa48bdd0330f</td>\n",
       "      <td>9b98b8c7a33c4b65b9aebfe6a799e6d9</td>\n",
       "      <td>1</td>\n",
       "      <td>0</td>\n",
       "      <td>0</td>\n",
       "      <td>NaN</td>\n",
       "      <td>NaN</td>\n",
       "      <td>0.00</td>\n",
       "      <td>0.0</td>\n",
       "    </tr>\n",
       "    <tr>\n",
       "      <th>67863</th>\n",
       "      <td>bf3069b178fe40d789dd027901bc406b</td>\n",
       "      <td>0b1e1539f2cc45b7b9fa7c272da2e1d7</td>\n",
       "      <td>1</td>\n",
       "      <td>0</td>\n",
       "      <td>0</td>\n",
       "      <td>NaN</td>\n",
       "      <td>NaN</td>\n",
       "      <td>0.00</td>\n",
       "      <td>0.0</td>\n",
       "    </tr>\n",
       "    <tr>\n",
       "      <th>67864</th>\n",
       "      <td>f653cf2d8bba42d0a53c2937ee2e5893</td>\n",
       "      <td>9b98b8c7a33c4b65b9aebfe6a799e6d9</td>\n",
       "      <td>1</td>\n",
       "      <td>0</td>\n",
       "      <td>1</td>\n",
       "      <td>NaN</td>\n",
       "      <td>54.0</td>\n",
       "      <td>0.00</td>\n",
       "      <td>5.0</td>\n",
       "    </tr>\n",
       "  </tbody>\n",
       "</table>\n",
       "<p>14472 rows × 9 columns</p>\n",
       "</div>"
      ],
      "text/plain": [
       "                            customer_id                          offer_id  \\\n",
       "8      2eeac8d8feae4a8cad5a6af0499a211d  3f207df678b143eea3cee63160fa8bed   \n",
       "21     65aba5c617294649aeb624da249e1ee5  2906b810c7d4411798c6938adc9daaa5   \n",
       "24     868317b9be554cb18e50bc68484749a2  2906b810c7d4411798c6938adc9daaa5   \n",
       "27     4beeb3ed64dd4898b0edf2f6b67426d3  2906b810c7d4411798c6938adc9daaa5   \n",
       "29     25c906289d154b66bf579693f89481c9  2906b810c7d4411798c6938adc9daaa5   \n",
       "...                                 ...                               ...   \n",
       "67856  10316535e185400fb093c371d62254e3  3f207df678b143eea3cee63160fa8bed   \n",
       "67861  ff737c250d2343729ade04c4f6eb1001  0b1e1539f2cc45b7b9fa7c272da2e1d7   \n",
       "67862  97ee6e7a12fe4064b260fa48bdd0330f  9b98b8c7a33c4b65b9aebfe6a799e6d9   \n",
       "67863  bf3069b178fe40d789dd027901bc406b  0b1e1539f2cc45b7b9fa7c272da2e1d7   \n",
       "67864  f653cf2d8bba42d0a53c2937ee2e5893  9b98b8c7a33c4b65b9aebfe6a799e6d9   \n",
       "\n",
       "       received_offer  viewed_offer  completed_offer  delayed_view_time  \\\n",
       "8                   1             0                0                NaN   \n",
       "21                  1             0                0                NaN   \n",
       "24                  1             0                1                NaN   \n",
       "27                  1             0                1                NaN   \n",
       "29                  1             0                0                NaN   \n",
       "...               ...           ...              ...                ...   \n",
       "67856               1             0                0                NaN   \n",
       "67861               1             0                0                NaN   \n",
       "67862               1             0                0                NaN   \n",
       "67863               1             0                0                NaN   \n",
       "67864               1             0                1                NaN   \n",
       "\n",
       "       delayed_complete_time  amount  given_reward  \n",
       "8                        NaN    0.00           0.0  \n",
       "21                       NaN    0.00           0.0  \n",
       "24                     132.0    0.00           2.0  \n",
       "27                     120.0    0.00           2.0  \n",
       "29                       NaN    0.00           0.0  \n",
       "...                      ...     ...           ...  \n",
       "67856                    NaN    0.00           0.0  \n",
       "67861                    NaN    4.78           0.0  \n",
       "67862                    NaN    0.00           0.0  \n",
       "67863                    NaN    0.00           0.0  \n",
       "67864                   54.0    0.00           5.0  \n",
       "\n",
       "[14472 rows x 9 columns]"
      ]
     },
     "execution_count": 18,
     "metadata": {},
     "output_type": "execute_result"
    }
   ],
   "source": [
    "final_transcript[final_transcript['viewed_offer'] == 0]"
   ]
  },
  {
   "cell_type": "markdown",
   "metadata": {},
   "source": [
    "### Create a unified data set"
   ]
  },
  {
   "cell_type": "code",
   "execution_count": 19,
   "metadata": {},
   "outputs": [
    {
     "data": {
      "text/plain": [
       "67871"
      ]
     },
     "execution_count": 19,
     "metadata": {},
     "output_type": "execute_result"
    }
   ],
   "source": [
    "len(final_transcript)"
   ]
  },
  {
   "cell_type": "code",
   "execution_count": 20,
   "metadata": {},
   "outputs": [],
   "source": [
    "def merge_and_clean_data(final_transcript, right_dataset, key, direct):\n",
    "    # Merge profile to transcript by customer_id\n",
    "    merged_dataset = final_transcript.merge(right_dataset, on=key, how=direct)\n",
    "\n",
    "    # Drop the key column\n",
    "    merged_dataset = merged_dataset.drop(key, axis=1)\n",
    "\n",
    "    print(\"\\nMerged dataset:\")\n",
    "    print(merged_dataset.head())\n",
    "    print(f\"Shape of merged dataset: {merged_dataset.shape}\")\n",
    "\n",
    "    # Display data types\n",
    "    print(\"\\nData types in merged dataset:\")\n",
    "    print(merged_dataset.dtypes)\n",
    "\n",
    "    # Verify data types in merged dataset\n",
    "    print(\"\\nVerifying data types in merged dataset:\")\n",
    "    for column in merged_dataset.columns:\n",
    "        print(f\"{column}: {merged_dataset[column].dtype}\")\n",
    "\n",
    "    return merged_dataset\n"
   ]
  },
  {
   "cell_type": "code",
   "execution_count": 21,
   "metadata": {},
   "outputs": [
    {
     "data": {
      "text/plain": [
       "14825"
      ]
     },
     "execution_count": 21,
     "metadata": {},
     "output_type": "execute_result"
    }
   ],
   "source": [
    "len(profile['customer_id'].unique())"
   ]
  },
  {
   "cell_type": "code",
   "execution_count": 22,
   "metadata": {},
   "outputs": [
    {
     "name": "stdout",
     "output_type": "stream",
     "text": [
      "\n",
      "Merged dataset:\n",
      "                           offer_id  received_offer  viewed_offer  \\\n",
      "0  9b98b8c7a33c4b65b9aebfe6a799e6d9               1             1   \n",
      "1  2906b810c7d4411798c6938adc9daaa5               1             1   \n",
      "2  f19421c1d4aa40978ebb69ca19b0e20d               1             1   \n",
      "3  f19421c1d4aa40978ebb69ca19b0e20d               1             1   \n",
      "4  3f207df678b143eea3cee63160fa8bed               1             0   \n",
      "\n",
      "   completed_offer  delayed_view_time  delayed_complete_time  amount  \\\n",
      "0                1                6.0                  132.0     0.0   \n",
      "1                0               18.0                    NaN     0.0   \n",
      "2                1              504.0                  600.0     0.0   \n",
      "3                1              504.0                  600.0     0.0   \n",
      "4                0                NaN                    NaN     0.0   \n",
      "\n",
      "   given_reward  age    income  gender_F  gender_M  gender_O  membership_days  \n",
      "0           5.0   75  100000.0         1         0         0             2674  \n",
      "1           0.0   68   70000.0         0         1         0             2322  \n",
      "2           5.0   65   53000.0         0         1         0             2398  \n",
      "3           5.0   65   53000.0         0         1         0             2398  \n",
      "4           0.0   58   51000.0         0         1         0             2488  \n",
      "Shape of merged dataset: (59724, 14)\n",
      "\n",
      "Data types in merged dataset:\n",
      "offer_id                  object\n",
      "received_offer             int32\n",
      "viewed_offer               int32\n",
      "completed_offer            int32\n",
      "delayed_view_time        float64\n",
      "delayed_complete_time    float64\n",
      "amount                   float32\n",
      "given_reward             float32\n",
      "age                        int32\n",
      "income                   float32\n",
      "gender_F                   int32\n",
      "gender_M                   int32\n",
      "gender_O                   int32\n",
      "membership_days            int32\n",
      "dtype: object\n",
      "\n",
      "Verifying data types in merged dataset:\n",
      "offer_id: object\n",
      "received_offer: int32\n",
      "viewed_offer: int32\n",
      "completed_offer: int32\n",
      "delayed_view_time: float64\n",
      "delayed_complete_time: float64\n",
      "amount: float32\n",
      "given_reward: float32\n",
      "age: int32\n",
      "income: float32\n",
      "gender_F: int32\n",
      "gender_M: int32\n",
      "gender_O: int32\n",
      "membership_days: int32\n",
      "\n",
      "Merged dataset:\n",
      "   received_offer  viewed_offer  completed_offer  delayed_view_time  \\\n",
      "0               1             1                1                6.0   \n",
      "1               1             1                0               18.0   \n",
      "2               1             1                1              504.0   \n",
      "3               1             1                1              504.0   \n",
      "4               1             0                0                NaN   \n",
      "\n",
      "   delayed_complete_time  amount  given_reward  age    income  gender_F  ...  \\\n",
      "0                  132.0     0.0           5.0   75  100000.0         1  ...   \n",
      "1                    NaN     0.0           0.0   68   70000.0         0  ...   \n",
      "2                  600.0     0.0           5.0   65   53000.0         0  ...   \n",
      "3                  600.0     0.0           5.0   65   53000.0         0  ...   \n",
      "4                    NaN     0.0           0.0   58   51000.0         0  ...   \n",
      "\n",
      "   gender_O  membership_days  reward  difficulty  duration  offer_type  email  \\\n",
      "0         0             2674       5           5         7           0      1   \n",
      "1         0             2322       2          10         7           1      1   \n",
      "2         0             2398       5           5         5           0      1   \n",
      "3         0             2398       5           5         5           0      1   \n",
      "4         0             2488       0           0         4           2      1   \n",
      "\n",
      "   mobile  social  web  \n",
      "0       1       0    1  \n",
      "1       1       0    1  \n",
      "2       1       1    1  \n",
      "3       1       1    1  \n",
      "4       1       0    1  \n",
      "\n",
      "[5 rows x 21 columns]\n",
      "Shape of merged dataset: (59724, 21)\n",
      "\n",
      "Data types in merged dataset:\n",
      "received_offer             int32\n",
      "viewed_offer               int32\n",
      "completed_offer            int32\n",
      "delayed_view_time        float64\n",
      "delayed_complete_time    float64\n",
      "amount                   float32\n",
      "given_reward             float32\n",
      "age                        int32\n",
      "income                   float32\n",
      "gender_F                   int32\n",
      "gender_M                   int32\n",
      "gender_O                   int32\n",
      "membership_days            int32\n",
      "reward                     int32\n",
      "difficulty                 int32\n",
      "duration                   int32\n",
      "offer_type                 int32\n",
      "email                      int32\n",
      "mobile                     int32\n",
      "social                     int32\n",
      "web                        int32\n",
      "dtype: object\n",
      "\n",
      "Verifying data types in merged dataset:\n",
      "received_offer: int32\n",
      "viewed_offer: int32\n",
      "completed_offer: int32\n",
      "delayed_view_time: float64\n",
      "delayed_complete_time: float64\n",
      "amount: float32\n",
      "given_reward: float32\n",
      "age: int32\n",
      "income: float32\n",
      "gender_F: int32\n",
      "gender_M: int32\n",
      "gender_O: int32\n",
      "membership_days: int32\n",
      "reward: int32\n",
      "difficulty: int32\n",
      "duration: int32\n",
      "offer_type: int32\n",
      "email: int32\n",
      "mobile: int32\n",
      "social: int32\n",
      "web: int32\n"
     ]
    }
   ],
   "source": [
    "# Create Viewed & Completed Offers Dataset for analysis\n",
    "final_dataset = merge_and_clean_data(final_transcript, profile, 'customer_id', 'inner')\n",
    "final_dataset = merge_and_clean_data(final_dataset, portfolio, 'offer_id', 'inner')\n"
   ]
  },
  {
   "cell_type": "code",
   "execution_count": 23,
   "metadata": {},
   "outputs": [
    {
     "name": "stdout",
     "output_type": "stream",
     "text": [
      "<class 'pandas.core.frame.DataFrame'>\n",
      "RangeIndex: 59724 entries, 0 to 59723\n",
      "Data columns (total 21 columns):\n",
      " #   Column                 Non-Null Count  Dtype  \n",
      "---  ------                 --------------  -----  \n",
      " 0   received_offer         59724 non-null  int32  \n",
      " 1   viewed_offer           59724 non-null  int32  \n",
      " 2   completed_offer        59724 non-null  int32  \n",
      " 3   delayed_view_time      46679 non-null  float64\n",
      " 4   delayed_complete_time  32444 non-null  float64\n",
      " 5   amount                 59724 non-null  float32\n",
      " 6   given_reward           59724 non-null  float32\n",
      " 7   age                    59724 non-null  int32  \n",
      " 8   income                 59724 non-null  float32\n",
      " 9   gender_F               59724 non-null  int32  \n",
      " 10  gender_M               59724 non-null  int32  \n",
      " 11  gender_O               59724 non-null  int32  \n",
      " 12  membership_days        59724 non-null  int32  \n",
      " 13  reward                 59724 non-null  int32  \n",
      " 14  difficulty             59724 non-null  int32  \n",
      " 15  duration               59724 non-null  int32  \n",
      " 16  offer_type             59724 non-null  int32  \n",
      " 17  email                  59724 non-null  int32  \n",
      " 18  mobile                 59724 non-null  int32  \n",
      " 19  social                 59724 non-null  int32  \n",
      " 20  web                    59724 non-null  int32  \n",
      "dtypes: float32(3), float64(2), int32(16)\n",
      "memory usage: 5.2 MB\n"
     ]
    }
   ],
   "source": [
    "main_dataset = final_dataset\n",
    "main_dataset.info()"
   ]
  },
  {
   "cell_type": "markdown",
   "metadata": {},
   "source": [
    "## Calculation statistics after clean and encode data\n"
   ]
  },
  {
   "cell_type": "markdown",
   "metadata": {},
   "source": [
    "### Best performing offers"
   ]
  },
  {
   "cell_type": "code",
   "execution_count": 24,
   "metadata": {},
   "outputs": [
    {
     "data": {
      "image/png": "[encoded data removed]",
      "text/plain": [
       "<Figure size 1200x600 with 1 Axes>"
      ]
     },
     "metadata": {},
     "output_type": "display_data"
    },
    {
     "name": "stdout",
     "output_type": "stream",
     "text": [
      "\n",
      "Best performing offers based on average given reward:\n",
      "   offer_type  given_reward  delayed_complete_time    offer_label\n",
      "0           0      4.607172             130.797483           bogo\n",
      "1           1      2.011806             152.800652       discount\n",
      "2           2      0.000000                    NaN  informational\n",
      "\n",
      "The best performing offer is 'bogo' with an average given reward of 4.61 and an average response time of 130.80 minutes.\n"
     ]
    }
   ],
   "source": [
    "# Find the best performing offers\n",
    "\n",
    "# Group by offer type and calculate the mean of the given reward and response time\n",
    "offer_performance = main_dataset.groupby('offer_type').agg({\n",
    "    'given_reward': 'mean',\n",
    "    'delayed_complete_time': 'mean'\n",
    "}).reset_index()\n",
    "\n",
    "# Sort by the mean given reward to find the best performing offers\n",
    "offer_performance = offer_performance.sort_values('given_reward', ascending=False)\n",
    "\n",
    "# Create a dictionary to map offer types to labels\n",
    "offer_type_labels = {0: 'bogo', 1: 'discount', 2: 'informational'}\n",
    "\n",
    "# Map the offer types to their corresponding labels\n",
    "offer_performance['offer_label'] = offer_performance['offer_type'].map(offer_type_labels)\n",
    "\n",
    "# Visualize the performance of different offer types\n",
    "plt.figure(figsize=(12, 6))\n",
    "sns.barplot(x='offer_label', y='given_reward', data=offer_performance)\n",
    "plt.title('Average Given Reward by Offer Type')\n",
    "plt.xlabel('Offer Type')\n",
    "plt.ylabel('Average Given Reward')\n",
    "plt.show()\n",
    "\n",
    "# Print the best performing offers\n",
    "print(\"\\nBest performing offers based on average given reward:\")\n",
    "print(offer_performance)\n",
    "\n",
    "# Highlight the best performing offer\n",
    "best_offer = offer_performance.iloc[0]\n",
    "print(f\"\\nThe best performing offer is '{best_offer['offer_label']}' with an average given reward of {best_offer['given_reward']:.2f} and an average response time of {best_offer['delayed_complete_time']:.2f} minutes.\")"
   ]
  },
  {
   "cell_type": "markdown",
   "metadata": {},
   "source": [
    "### Identify which groups of people are most responsive to each type of offer, and how best to present each type of offer.\n"
   ]
  },
  {
   "cell_type": "code",
   "execution_count": 25,
   "metadata": {},
   "outputs": [
    {
     "data": {
      "text/plain": [
       "Index(['received_offer', 'viewed_offer', 'completed_offer',\n",
       "       'delayed_view_time', 'delayed_complete_time', 'amount', 'given_reward',\n",
       "       'age', 'income', 'gender_F', 'gender_M', 'gender_O', 'membership_days',\n",
       "       'reward', 'difficulty', 'duration', 'offer_type', 'email', 'mobile',\n",
       "       'social', 'web'],\n",
       "      dtype='object')"
      ]
     },
     "execution_count": 25,
     "metadata": {},
     "output_type": "execute_result"
    }
   ],
   "source": [
    "main_dataset.columns"
   ]
  },
  {
   "cell_type": "code",
   "execution_count": 26,
   "metadata": {},
   "outputs": [],
   "source": [
    "# Create a model to predict if a customer will view an offer\n",
    "def predict_offer_status(offer_status, core_features):\n",
    "    # Prepare the data\n",
    "    X = main_dataset[core_features]\n",
    "    y = main_dataset[offer_status]\n",
    "\n",
    "    # Split the data into training and testing sets\n",
    "    from sklearn.model_selection import train_test_split\n",
    "    X_train, X_test, y_train, y_test = train_test_split(X, y, test_size=0.2, random_state=42)\n",
    "\n",
    "    # Create and train the model (using Random Forest as an example)\n",
    "    from sklearn.ensemble import RandomForestClassifier\n",
    "    from sklearn.metrics import accuracy_score, classification_report\n",
    "\n",
    "    model = RandomForestClassifier(n_estimators=100, random_state=42)\n",
    "    model.fit(X_train, y_train)\n",
    "\n",
    "    # Make predictions on the test set\n",
    "    y_pred = model.predict(X_test)\n",
    "\n",
    "    # Evaluate the model\n",
    "    accuracy = accuracy_score(y_test, y_pred)\n",
    "    print(f\"Model Accuracy: {accuracy:.2f}\")\n",
    "\n",
    "    print(\"\\nClassification Report:\")\n",
    "    print(classification_report(y_test, y_pred))\n",
    "\n",
    "    # Feature importance\n",
    "    feature_importance = pd.DataFrame({'feature': X.columns, 'importance': model.feature_importances_})\n",
    "    feature_importance = feature_importance.sort_values('importance', ascending=False)\n",
    "\n",
    "    plt.figure(figsize=(10, 6))\n",
    "    sns.barplot(x='importance', y='feature', data=feature_importance)\n",
    "    plt.title(f'Feature Importance for Predicting Offer {\"Viewed\" if offer_status == 'viewed_offer' else \"Completed\"}')\n",
    "    plt.xlabel('Importance')\n",
    "    plt.ylabel('Feature')\n",
    "    plt.show()\n",
    "\n",
    "    print(\"\\nTop 5 most important features:\")\n",
    "    print(feature_importance.head())\n"
   ]
  },
  {
   "cell_type": "code",
   "execution_count": 27,
   "metadata": {},
   "outputs": [
    {
     "name": "stdout",
     "output_type": "stream",
     "text": [
      "Model Accuracy: 0.83\n",
      "\n",
      "Classification Report:\n",
      "              precision    recall  f1-score   support\n",
      "\n",
      "           0       0.62      0.56      0.59      2641\n",
      "           1       0.88      0.90      0.89      9304\n",
      "\n",
      "    accuracy                           0.83     11945\n",
      "   macro avg       0.75      0.73      0.74     11945\n",
      "weighted avg       0.82      0.83      0.82     11945\n",
      "\n"
     ]
    },
    {
     "data": {
      "image/png": "[encoded data removed]",
      "text/plain": [
       "<Figure size 1000x600 with 1 Axes>"
      ]
     },
     "metadata": {},
     "output_type": "display_data"
    },
    {
     "name": "stdout",
     "output_type": "stream",
     "text": [
      "\n",
      "Top 5 most important features:\n",
      "           feature  importance\n",
      "5  membership_days    0.287590\n",
      "8           social    0.233723\n",
      "1           income    0.202223\n",
      "0              age    0.196217\n",
      "7           mobile    0.059808\n"
     ]
    }
   ],
   "source": [
    "viewed_features = ['age', 'income', 'gender_M', 'gender_F', 'gender_O', 'membership_days', 'email', 'mobile', 'social', 'web']\n",
    "# Call the function with the viewed_offer data\n",
    "predict_offer_status('viewed_offer', viewed_features)\n"
   ]
  },
  {
   "cell_type": "code",
   "execution_count": 28,
   "metadata": {},
   "outputs": [
    {
     "name": "stdout",
     "output_type": "stream",
     "text": [
      "Model Accuracy: 0.79\n",
      "\n",
      "Classification Report:\n",
      "              precision    recall  f1-score   support\n",
      "\n",
      "           0       0.80      0.73      0.76      5469\n",
      "           1       0.79      0.84      0.82      6476\n",
      "\n",
      "    accuracy                           0.79     11945\n",
      "   macro avg       0.79      0.79      0.79     11945\n",
      "weighted avg       0.79      0.79      0.79     11945\n",
      "\n"
     ]
    },
    {
     "data": {
      "image/png": "[encoded data removed]",
      "text/plain": [
       "<Figure size 1000x600 with 1 Axes>"
      ]
     },
     "metadata": {},
     "output_type": "display_data"
    },
    {
     "name": "stdout",
     "output_type": "stream",
     "text": [
      "\n",
      "Top 5 most important features:\n",
      "           feature  importance\n",
      "5  membership_days    0.304103\n",
      "1           income    0.181082\n",
      "0              age    0.174618\n",
      "6           reward    0.098508\n",
      "9       offer_type    0.076875\n"
     ]
    }
   ],
   "source": [
    "completed_features = ['age', 'income', 'gender_M', 'gender_F', 'gender_O', 'membership_days', 'reward', 'difficulty', 'duration', 'offer_type']\n",
    "\n",
    "predict_offer_status('completed_offer', completed_features)"
   ]
  },
  {
   "cell_type": "code",
   "execution_count": 32,
   "metadata": {},
   "outputs": [
    {
     "name": "stdout",
     "output_type": "stream",
     "text": [
      "Most Attractive Offer:\n",
      "Offer ID: 1.0\n",
      "Fulfillment Rate: 95.53%\n",
      "View Rate: 73.24%\n",
      "Completion Rate: 69.97%\n",
      "\n",
      "Offer Characteristics:\n",
      "Reward: $2.00\n",
      "Difficulty: $10.00\n",
      "Duration: 7.0 hours\n",
      "\n",
      "Feature Ranking for Offer Attractiveness:\n",
      "duration: 0.3721\n",
      "difficulty: 0.2948\n",
      "reward: 0.2238\n"
     ]
    },
    {
     "data": {
      "image/png": "[encoded data removed]",
      "text/plain": [
       "<Figure size 1500x500 with 3 Axes>"
      ]
     },
     "metadata": {},
     "output_type": "display_data"
    },
    {
     "name": "stdout",
     "output_type": "stream",
     "text": [
      "\n",
      "Insights on Offer Attractiveness:\n",
      "1. The most attractive offer has the highest fulfillment rate, indicating that it successfully motivates customers to complete the offer after viewing it.\n",
      "2. The ranking of offer features (reward, difficulty, duration) shows their relative importance in influencing offer completion.\n",
      "3. The scatter plots visualize how each feature relates to the fulfillment rate, helping to identify trends or patterns in offer attractiveness.\n",
      "4. Consider the balance between reward and difficulty, as well as the optimal duration, when designing future offers to maximize their attractiveness and completion rates.\n"
     ]
    }
   ],
   "source": [
    "# Analyze offer attractiveness and rank features\n",
    "\n",
    "# Group the data by offer_id and calculate the view and completion rates\n",
    "offer_performance = main_dataset.groupby('offer_type').agg({\n",
    "    'viewed_offer': 'mean',\n",
    "    'completed_offer': 'mean',\n",
    "    'reward': 'first',\n",
    "    'difficulty': 'first',\n",
    "    'duration': 'first'\n",
    "}).reset_index()\n",
    "\n",
    "# Calculate the fulfillment rate (completed offers among viewed offers)\n",
    "offer_performance['fulfillment_rate'] = offer_performance['completed_offer'] / offer_performance['viewed_offer']\n",
    "\n",
    "# Sort offers by fulfillment rate to find the most attractive offer\n",
    "most_attractive_offer = offer_performance.sort_values('fulfillment_rate', ascending=False).iloc[0]\n",
    "\n",
    "print(\"Most Attractive Offer:\")\n",
    "print(f\"Offer ID: {most_attractive_offer['offer_type']}\")\n",
    "print(f\"Fulfillment Rate: {most_attractive_offer['fulfillment_rate']:.2%}\")\n",
    "print(f\"View Rate: {most_attractive_offer['viewed_offer']:.2%}\")\n",
    "print(f\"Completion Rate: {most_attractive_offer['completed_offer']:.2%}\")\n",
    "print(\"\\nOffer Characteristics:\")\n",
    "print(f\"Reward: ${most_attractive_offer['reward']:.2f}\")\n",
    "print(f\"Difficulty: ${most_attractive_offer['difficulty']:.2f}\")\n",
    "print(f\"Duration: {most_attractive_offer['duration']} hours\")\n",
    "\n",
    "# Rank features by their correlation with offer completion\n",
    "feature_correlations = main_dataset[['completed_offer', 'reward', 'difficulty', 'duration']].corr()['completed_offer'].abs().sort_values(ascending=False)\n",
    "\n",
    "print(\"\\nFeature Ranking for Offer Attractiveness:\")\n",
    "for feature, correlation in feature_correlations.items():\n",
    "    if feature != 'completed_offer':\n",
    "        print(f\"{feature}: {correlation:.4f}\")\n",
    "\n",
    "# Visualize the relationship between offer characteristics and fulfillment rate\n",
    "plt.figure(figsize=(15, 5))\n",
    "\n",
    "plt.subplot(131)\n",
    "plt.scatter(offer_performance['reward'], offer_performance['fulfillment_rate'])\n",
    "plt.xlabel('Reward')\n",
    "plt.ylabel('Fulfillment Rate')\n",
    "plt.title('Reward vs Fulfillment Rate')\n",
    "\n",
    "plt.subplot(132)\n",
    "plt.scatter(offer_performance['difficulty'], offer_performance['fulfillment_rate'])\n",
    "plt.xlabel('Difficulty')\n",
    "plt.ylabel('Fulfillment Rate')\n",
    "plt.title('Difficulty vs Fulfillment Rate')\n",
    "\n",
    "plt.subplot(133)\n",
    "plt.scatter(offer_performance['duration'], offer_performance['fulfillment_rate'])\n",
    "plt.xlabel('Duration (days)')\n",
    "plt.ylabel('Fulfillment Rate')\n",
    "plt.title('Duration vs Fulfillment Rate')\n",
    "\n",
    "plt.tight_layout()\n",
    "plt.show()\n",
    "\n",
    "# Provide insights based on the analysis\n",
    "print(\"\\nInsights on Offer Attractiveness:\")\n",
    "print(\"1. The most attractive offer has the highest fulfillment rate, indicating that it successfully motivates customers to complete the offer after viewing it.\")\n",
    "print(\"2. The ranking of offer features (reward, difficulty, duration) shows their relative importance in influencing offer completion.\")\n",
    "print(\"3. The scatter plots visualize how each feature relates to the fulfillment rate, helping to identify trends or patterns in offer attractiveness.\")\n",
    "print(\"4. Consider the balance between reward and difficulty, as well as the optimal duration, when designing future offers to maximize their attractiveness and completion rates.\")\n"
   ]
  },
  {
   "cell_type": "code",
   "execution_count": null,
   "metadata": {},
   "outputs": [],
   "source": []
  }
 ],
 "metadata": {
  "kernelspec": {
   "display_name": "Python 3",
   "language": "python",
   "name": "python3"
  },
  "language_info": {
   "codemirror_mode": {
    "name": "ipython",
    "version": 3
   },
   "file_extension": ".py",
   "mimetype": "text/x-python",
   "name": "python",
   "nbconvert_exporter": "python",
   "pygments_lexer": "ipython3",
   "version": "3.12.4"
  }
 },
 "nbformat": 4,
 "nbformat_minor": 2
}
